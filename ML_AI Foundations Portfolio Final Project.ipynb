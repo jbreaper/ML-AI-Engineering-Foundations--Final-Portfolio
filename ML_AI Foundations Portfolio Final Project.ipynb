{
 "cells": [
  {
   "cell_type": "markdown",
   "id": "3574503c",
   "metadata": {},
   "source": [
    "# ML/AI Engineering Foundations: Final Portfolio\n",
    "The following Jupyter notebook was created as a part of the final project for the Codecademy course [\"ML/AI Engineering Foundations\"](https://www.codecademy.com/learn/paths/machine-learning-ai-engineering-foundations). "
   ]
  },
  {
   "cell_type": "markdown",
   "id": "887c9e60",
   "metadata": {},
   "source": [
    "## "
   ]
  },
  {
   "cell_type": "code",
   "execution_count": null,
   "id": "548a1525",
   "metadata": {},
   "outputs": [],
   "source": []
  }
 ],
 "metadata": {
  "kernelspec": {
   "display_name": "Python 3 (ipykernel)",
   "language": "python",
   "name": "python3"
  },
  "language_info": {
   "codemirror_mode": {
    "name": "ipython",
    "version": 3
   },
   "file_extension": ".py",
   "mimetype": "text/x-python",
   "name": "python",
   "nbconvert_exporter": "python",
   "pygments_lexer": "ipython3",
   "version": "3.11.8"
  }
 },
 "nbformat": 4,
 "nbformat_minor": 5
}
