{
 "cells": [
  {
   "cell_type": "markdown",
   "id": "3574503c",
   "metadata": {},
   "source": [
    "# ML/AI Engineering Foundations: Final Portfolio\n",
    "The following Jupyter notebook was created as a part of the final project for\\\n",
    "the Codecademy course \n",
    "[\"ML/AI Engineering Foundations\"](https://www.codecademy.com/learn/paths/machine-learning|ai|engineering|foundations). "
   ]
  },
  {
   "cell_type": "markdown",
   "id": "887c9e60",
   "metadata": {},
   "source": [
    "## Topic\n",
    "This project will investigate the relationship between book genre and sales \\\n",
    "over time. In order to do this the following dataset will be used:\\\n",
    "[Best-selling books dataset](https://www.kaggle.com/datasets/mansivasantpatel/best-selling-books-dataset/data)\n",
    "\n",
    "This dataset is described by it's author as the following:\n",
    "> This dataset provides lists of best-selling books and book series to date and\\\n",
    "> in any language. \"Best-selling\" refers to the estimated number of copies sold\\\n",
    "> of each book, rather than the number of books printed. Comics and textbooks\\\n",
    "> are not included in this list.\n",
    "\n",
    "This data set contains the following fields:\n",
    "| Field             | Description                                           |\n",
    "| ----------------- | ----------------------------------------------------- |\n",
    "|Index              | row index to identify each row uniquely.              |\n",
    "|Book               | Contains title of the book(s).                        |\n",
    "|Author             | Contains Name of the author(s) who wrote the book.    |\n",
    "|Original language  | Language in which the book was originally written.    |\n",
    "|First published    | The year in which the book was first published.       |\n",
    "|Approximate sales  | Approximate sales of the book.                        |\n",
    "|Genre              | Genre of the book.                                    |\n",
    "\n",
    "The bellow cell is used in to import the dataset (not included within the\\\n",
    "repository as including the dataset this way can be bad practice, as a dataset\\\n",
    "can easily be very large and complex):"
   ]
  },
  {
   "cell_type": "code",
   "execution_count": 2,
   "id": "548a1525",
   "metadata": {
    "tags": [
     "Dataset"
    ]
   },
   "outputs": [],
   "source": [
    "import kaggle\n",
    "\n",
    "kaggle.api.authenticate()\n",
    "\n",
    "kaggle.api.dataset_download_files(dataset = 'mansivasantpatel/best-selling-books-dataset', path = './', unzip = True)"
   ]
  },
  {
   "cell_type": "markdown",
   "id": "97451b1d",
   "metadata": {},
   "source": [
    "## Data Analysis\n",
    "With the dataset selected, the next step of the project is to determine how this dataset might be analysed. "
   ]
  }
 ],
 "metadata": {
  "kernelspec": {
   "display_name": "Python 3 (ipykernel)",
   "language": "python",
   "name": "python3"
  },
  "language_info": {
   "codemirror_mode": {
    "name": "ipython",
    "version": 3
   },
   "file_extension": ".py",
   "mimetype": "text/x-python",
   "name": "python",
   "nbconvert_exporter": "python",
   "pygments_lexer": "ipython3",
   "version": "3.11.5"
  }
 },
 "nbformat": 4,
 "nbformat_minor": 5
}
